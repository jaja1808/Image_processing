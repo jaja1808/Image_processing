{
 "cells": [
  {
   "cell_type": "markdown",
   "id": "6a276b75",
   "metadata": {},
   "source": [
    "# OpenCV101 - Basics of OpenCV"
   ]
  },
  {
   "cell_type": "markdown",
   "id": "cf317b24",
   "metadata": {},
   "source": [
    "## Loading and displaying an image"
   ]
  },
  {
   "cell_type": "code",
   "execution_count": 2,
   "id": "e21e69e9",
   "metadata": {},
   "outputs": [],
   "source": [
    "import cv2\n",
    "import numpy as np"
   ]
  },
  {
   "cell_type": "code",
   "execution_count": 4,
   "id": "2fb0be2a",
   "metadata": {},
   "outputs": [],
   "source": [
    "# Showing the image\n",
    "image = cv2.imread(\"opencvlogo.png\")\n",
    "cv2.imshow(\"Original image\", image)\n",
    "\n",
    "k = cv2.waitKey(0)\n",
    "if k == 27:         # wait for ESC key to exit\n",
    "    cv2.destroyAllWindows()"
   ]
  },
  {
   "cell_type": "code",
   "execution_count": 5,
   "id": "2f2f14f7",
   "metadata": {},
   "outputs": [
    {
     "name": "stdout",
     "output_type": "stream",
     "text": [
      "image heigth: 378\n",
      "image width: 428\n",
      "image channels: 3\n"
     ]
    },
    {
     "data": {
      "text/plain": [
       "True"
      ]
     },
     "execution_count": 5,
     "metadata": {},
     "output_type": "execute_result"
    }
   ],
   "source": [
    "# Displaying its height, width and number of channels\n",
    "\n",
    "(h, w, c) = image.shape[:3]\n",
    "cv2.imshow(\"Output\", image)\n",
    "\n",
    "k = cv2.waitKey(0)\n",
    "if k == 27:         # wait for ESC key to exit\n",
    "    cv2.destroyAllWindows()\n",
    "    \n",
    "print(\"image heigth: {}\".format(image.shape[0]))\n",
    "print(\"image width: {}\".format(image.shape[1]))\n",
    "print(\"image channels: {}\".format(image.shape[2]))\n",
    "\n",
    "# Saving in another format\n",
    "cv2.imwrite(\"NewImage.jpg\", image)"
   ]
  },
  {
   "cell_type": "markdown",
   "id": "d9ab1028",
   "metadata": {},
   "source": [
    "##  Getting and setting pixels"
   ]
  },
  {
   "cell_type": "code",
   "execution_count": 6,
   "id": "9e5b4433",
   "metadata": {},
   "outputs": [
    {
     "name": "stdout",
     "output_type": "stream",
     "text": [
      "Pixel at (0, 0) - Red: 255, Green: 255, Blue: 255\n"
     ]
    }
   ],
   "source": [
    "# BGR on first pixel\n",
    "(b, g, r) = image[0, 0]\n",
    "\n",
    "print(\"Pixel at (0, 0) - Red: {}, Green: {}, Blue: {}\".format(r, g, b))"
   ]
  },
  {
   "cell_type": "code",
   "execution_count": 7,
   "id": "115f4495",
   "metadata": {},
   "outputs": [
    {
     "name": "stdout",
     "output_type": "stream",
     "text": [
      "Pixel at (0, 0) - Red: 255, Green: 0, Blue: 0\n"
     ]
    }
   ],
   "source": [
    "# Setting the previous coordinate to Red\n",
    "image[0, 0] = (0, 0, 255) # this will set the pixel at x=0 and y=0 to red.\n",
    "\n",
    "(b, g, r) = image[0, 0]\n",
    "\n",
    "print(\"Pixel at (0, 0) - Red: {}, Green: {}, Blue: {}\".format(r, g, b))"
   ]
  },
  {
   "cell_type": "markdown",
   "id": "06202070",
   "metadata": {},
   "source": [
    "## Drawing "
   ]
  },
  {
   "cell_type": "code",
   "execution_count": 8,
   "id": "9e1d0f91",
   "metadata": {},
   "outputs": [],
   "source": [
    "# Line\n",
    "\n",
    "canvas = np.zeros((300, 300, 3), dtype=\"uint8\")\n",
    "green = (0, 255, 0)\n",
    "cv2.line(canvas, (0,0), (300, 300), green, 3)\n",
    "cv2.imshow(\"Canvas\", canvas)\n",
    "k = cv2.waitKey(0)\n",
    "if k == 27:         # wait for ESC key to exit\n",
    "    cv2.destroyAllWindows()"
   ]
  },
  {
   "cell_type": "code",
   "execution_count": 11,
   "id": "8e8d40ce",
   "metadata": {},
   "outputs": [],
   "source": [
    "# Circle\n",
    "\n",
    "canvas = np.zeros((300, 300, 3), dtype=\"uint8\")\n",
    "green = (0, 255, 0)\n",
    "cv2.circle(canvas, (150,150), 50, green, 3)\n",
    "cv2.imshow(\"Canvas\", canvas)\n",
    "k = cv2.waitKey(0)\n",
    "if k == 27:         # wait for ESC key to exit\n",
    "    cv2.destroyAllWindows()"
   ]
  },
  {
   "cell_type": "code",
   "execution_count": 17,
   "id": "5f01b706",
   "metadata": {},
   "outputs": [],
   "source": [
    "# Rectangle\n",
    "\n",
    "canvas = np.zeros((300, 300, 3), dtype=\"uint8\")\n",
    "green = (0, 255, 0)\n",
    "cv2.rectangle(canvas, (0,0), (50, 50), green, -1) # -1 for filling the triangle\n",
    "cv2.imshow(\"Canvas\", canvas)\n",
    "k = cv2.waitKey(0)\n",
    "if k == 27:         # wait for ESC key to exit\n",
    "    cv2.destroyAllWindows()"
   ]
  },
  {
   "cell_type": "markdown",
   "id": "3961146c",
   "metadata": {},
   "source": [
    "## Translation, Rotation, Resizing, Flipping and Cropping"
   ]
  },
  {
   "cell_type": "code",
   "execution_count": 9,
   "id": "19e77463",
   "metadata": {},
   "outputs": [],
   "source": [
    "# Translation\n",
    "M = np.float32([[1, 0, 25], [0, 1, 50]])\n",
    "\n",
    "shifted = cv2.warpAffine(image, M, (image.shape[1], image.shape[0]))\n",
    "\n",
    "cv2.imshow(\"Shifted\", shifted)\n",
    "\n",
    "k = cv2.waitKey(0)\n",
    "if k == 27:         # wait for ESC key to exit\n",
    "    cv2.destroyAllWindows()"
   ]
  },
  {
   "cell_type": "code",
   "execution_count": 10,
   "id": "6b9c948f",
   "metadata": {},
   "outputs": [],
   "source": [
    "# Rotation\n",
    "(h, w) = image.shape[:2]\n",
    "(cX, cY) = (w // 2, h // 2)\n",
    "\n",
    "M = cv2.getRotationMatrix2D((cX, cY), 45, 1.0) \n",
    "\n",
    "rotated = cv2.warpAffine(image, M, (w, h))\n",
    "\n",
    "cv2.imshow(\"Rotated\", rotated)\n",
    "\n",
    "k = cv2.waitKey(0)\n",
    "if k == 27:         # wait for ESC key to exit\n",
    "    cv2.destroyAllWindows()"
   ]
  },
  {
   "cell_type": "code",
   "execution_count": 11,
   "id": "13d2470b",
   "metadata": {},
   "outputs": [],
   "source": [
    "# Resizing\n",
    "r = 50.0 / image.shape[0]\n",
    "dim = (int(image.shape[1] * r), 50)\n",
    "resized = cv2.resize(image, dim, interpolation=cv2.INTER_LINEAR)\n",
    "\n",
    "cv2.imshow(\"Resized\", resized)\n",
    "\n",
    "k = cv2.waitKey(0)\n",
    "if k == 27:         # wait for ESC key to exit\n",
    "    cv2.destroyAllWindows()"
   ]
  },
  {
   "cell_type": "code",
   "execution_count": 12,
   "id": "11711310",
   "metadata": {},
   "outputs": [],
   "source": [
    "# FLipping\n",
    "flipped = cv2.flip(image, 0) # 0 vertically, 1 horizontally. \n",
    "\n",
    "cv2.imshow(\"Flipped\", flipped)\n",
    "\n",
    "k = cv2.waitKey(0)\n",
    "if k == 27:         # wait for ESC key to exit\n",
    "    cv2.destroyAllWindows()"
   ]
  },
  {
   "cell_type": "code",
   "execution_count": 13,
   "id": "aa23baca",
   "metadata": {},
   "outputs": [],
   "source": [
    "# Cropping\n",
    "sliced = image[50:161, 50:100]\n",
    "cv2.imshow(\"Sliced\", sliced)\n",
    "\n",
    "k = cv2.waitKey(0)\n",
    "if k == 27:         # wait for ESC key to exit\n",
    "    cv2.destroyAllWindows()"
   ]
  },
  {
   "cell_type": "markdown",
   "id": "d6bc14ce",
   "metadata": {},
   "source": [
    "## Image arithmetics"
   ]
  },
  {
   "cell_type": "code",
   "execution_count": 14,
   "id": "6641feb2",
   "metadata": {},
   "outputs": [],
   "source": [
    "# Image arithmetics\n",
    "M = np.ones(image.shape, dtype=\"uint8\") * 150\n",
    "\n",
    "darker = cv2.subtract(image, M)\n",
    "\n",
    "lighter = cv2.add(image, M)\n",
    "\n",
    "cv2.imshow(\"Darker\", darker)\n",
    "cv2.imshow(\"Lighter\", lighter)\n",
    "\n",
    "k = cv2.waitKey(0)\n",
    "if k == 27:         # wait for ESC key to exit\n",
    "    cv2.destroyAllWindows()"
   ]
  },
  {
   "cell_type": "markdown",
   "id": "e0bf6d3c",
   "metadata": {},
   "source": [
    "## Bitwise operations and masking "
   ]
  },
  {
   "cell_type": "code",
   "execution_count": 15,
   "id": "69491332",
   "metadata": {},
   "outputs": [],
   "source": [
    "# Draw a rectangle\n",
    "rectangle = np.zeros((300, 300), dtype=\"uint8\")\n",
    "cv2.rectangle(rectangle, (25, 25), (275, 275), 255, -1)\n",
    "cv2.imshow(\"Rectangle\", rectangle)\n",
    "\n",
    "# Circle\n",
    "circle = np.zeros((300, 300), dtype=\"uint8\")\n",
    "cv2.circle(circle, (150, 150), 150, 255, -1)\n",
    "cv2.imshow(\"Circle\", circle)\n",
    "\n",
    "k = cv2.waitKey(0)\n",
    "if k == 27:         # wait for ESC key to exit\n",
    "    cv2.destroyAllWindows()"
   ]
  },
  {
   "cell_type": "code",
   "execution_count": 16,
   "id": "f4b4ee25",
   "metadata": {},
   "outputs": [],
   "source": [
    "# Bitwise AND\n",
    "bitwiseAnd = cv2.bitwise_and(rectangle, circle)\n",
    "cv2.imshow(\"AND\", bitwiseAnd)\n",
    "cv2.waitKey(0)\n",
    "\n",
    "\n",
    "k = cv2.waitKey(0)\n",
    "if k == 27:         # wait for ESC key to exit\n",
    "    cv2.destroyAllWindows()"
   ]
  },
  {
   "cell_type": "code",
   "execution_count": 17,
   "id": "614abb1e",
   "metadata": {},
   "outputs": [],
   "source": [
    "# Bitwise OR\n",
    "bitwiseOr = cv2.bitwise_or(rectangle, circle)\n",
    "cv2.imshow(\"OR\", bitwiseOr)\n",
    "cv2.waitKey(0)\n",
    "\n",
    "\n",
    "k = cv2.waitKey(0)\n",
    "if k == 27:         # wait for ESC key to exit\n",
    "    cv2.destroyAllWindows()"
   ]
  },
  {
   "cell_type": "code",
   "execution_count": 18,
   "id": "42d82678",
   "metadata": {},
   "outputs": [],
   "source": [
    "# Bitwise XOR\n",
    "bitwiseXor = cv2.bitwise_xor(rectangle, circle)\n",
    "cv2.imshow(\"XOR\", bitwiseXor)\n",
    "cv2.waitKey(0)\n",
    "\n",
    "\n",
    "k = cv2.waitKey(0)\n",
    "if k == 27:         # wait for ESC key to exit\n",
    "    cv2.destroyAllWindows()"
   ]
  },
  {
   "cell_type": "code",
   "execution_count": 19,
   "id": "1f715291",
   "metadata": {},
   "outputs": [],
   "source": [
    "# Bitwise NOT\n",
    "bitwiseNot = cv2.bitwise_not(circle)\n",
    "\n",
    "cv2.imshow(\"Inverted\", bitwiseNot)\n",
    "\n",
    "k = cv2.waitKey(0)\n",
    "if k == 27:         # wait for ESC key to exit\n",
    "    cv2.destroyAllWindows()"
   ]
  },
  {
   "cell_type": "code",
   "execution_count": 20,
   "id": "aea27f7a",
   "metadata": {},
   "outputs": [],
   "source": [
    "# Masking\n",
    "cv2.imshow(\"Original\", image)\n",
    "\n",
    "mask = np.zeros(image.shape[:2], dtype=\"uint8\")\n",
    "cv2.rectangle(mask, (40, 100), (60, 150), 255, -1)\n",
    "cv2.imshow(\"Rectangular Mask\", mask)\n",
    "\n",
    "\n",
    "masked = cv2.bitwise_and(image, image, mask=mask)\n",
    "cv2.imshow(\"Mask applied\", masked)\n",
    "\n",
    "k = cv2.waitKey(0)\n",
    "if k == 27:         # wait for ESC key to exit\n",
    "    cv2.destroyAllWindows()"
   ]
  },
  {
   "cell_type": "markdown",
   "id": "2384642f",
   "metadata": {},
   "source": [
    "## Splitting and merging channels"
   ]
  },
  {
   "cell_type": "code",
   "execution_count": 21,
   "id": "d034cb27",
   "metadata": {},
   "outputs": [],
   "source": [
    "# Splitting\n",
    "cv2.imshow(\"Original image\", image)\n",
    "\n",
    "(B, G, R) = cv2.split(image)\n",
    "\n",
    "cv2.imshow(\"Blue channel\", B)\n",
    "cv2.imshow(\"Green channel\", G)\n",
    "cv2.imshow(\"Red channel\", R)\n",
    "\n",
    "k = cv2.waitKey(0)\n",
    "if k == 27:         # wait for ESC key to exit\n",
    "    cv2.destroyAllWindows()"
   ]
  },
  {
   "cell_type": "code",
   "execution_count": 22,
   "id": "5f687fb8",
   "metadata": {},
   "outputs": [],
   "source": [
    "# Merging\n",
    "merged = cv2.merge([B, G, R])\n",
    "cv2.imshow(\"Merged\", merged)\n",
    "\n",
    "k = cv2.waitKey(0)\n",
    "if k == 27:         # wait for ESC key to exit\n",
    "    cv2.destroyAllWindows()"
   ]
  }
 ],
 "metadata": {
  "kernelspec": {
   "display_name": "Python 3 (ipykernel)",
   "language": "python",
   "name": "python3"
  },
  "language_info": {
   "codemirror_mode": {
    "name": "ipython",
    "version": 3
   },
   "file_extension": ".py",
   "mimetype": "text/x-python",
   "name": "python",
   "nbconvert_exporter": "python",
   "pygments_lexer": "ipython3",
   "version": "3.11.1"
  }
 },
 "nbformat": 4,
 "nbformat_minor": 5
}
