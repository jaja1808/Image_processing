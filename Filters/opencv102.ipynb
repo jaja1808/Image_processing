{
 "cells": [
  {
   "cell_type": "markdown",
   "id": "424107e0",
   "metadata": {},
   "source": [
    "# OpenCV 102 - Basic imaging processing operations"
   ]
  },
  {
   "cell_type": "code",
   "execution_count": 1,
   "id": "feefa5d2",
   "metadata": {},
   "outputs": [],
   "source": [
    "import cv2\n",
    "import numpy as np\n",
    "\n",
    "image = cv2.imread(\"logo.png\")\n",
    "gray = cv2.cvtColor(image, cv2.COLOR_BGR2GRAY)\n",
    "cv2.imshow(\"Window\", image)\n",
    "\n",
    "k = cv2.waitKey(0)\n",
    "if k == 27:         # wait for ESC key to exit\n",
    "    cv2.destroyAllWindows()"
   ]
  },
  {
   "cell_type": "markdown",
   "id": "cf1c47fc",
   "metadata": {},
   "source": [
    "## Morphological operations"
   ]
  },
  {
   "cell_type": "code",
   "execution_count": 2,
   "id": "39c042ba",
   "metadata": {},
   "outputs": [],
   "source": [
    "# Erosion\n",
    "\n",
    "for i in range(0, 3):\n",
    "    eroded = cv2.erode(gray.copy(), None, iterations=i + 1)\n",
    "    cv2.imshow(\"Eroded {} times\".format(i + 1), eroded)\n",
    "    k = cv2.waitKey(0)\n",
    "    if k == 27:         # wait for ESC key to exit\n",
    "        cv2.destroyAllWindows()"
   ]
  },
  {
   "cell_type": "code",
   "execution_count": 3,
   "id": "2494932e",
   "metadata": {},
   "outputs": [],
   "source": [
    "# Dilation\n",
    "\n",
    "for i in range(0, 3):\n",
    "    dilated = cv2.dilate(gray.copy(), None, iterations=i + 1)\n",
    "    cv2.imshow(\"Dilated {} times\".format(i + 1), dilated)\n",
    "    k = cv2.waitKey(0)\n",
    "    if k == 27:         # wait for ESC key to exit\n",
    "        cv2.destroyAllWindows()"
   ]
  },
  {
   "cell_type": "code",
   "execution_count": 3,
   "id": "6061363b",
   "metadata": {},
   "outputs": [],
   "source": [
    "# Opening\n",
    "\n",
    "imagenoise = cv2.imread(\"logonoise.png\")\n",
    "graynoise = cv2.cvtColor(imagenoise, cv2.COLOR_BGR2GRAY)\n",
    "cv2.imshow(\"Window\", image)\n",
    "k = cv2.waitKey(0)\n",
    "if k == 27:         # wait for ESC key to exit\n",
    "    cv2.destroyAllWindows()\n",
    "\n",
    "kernelSizes = [(3, 3), (5, 5), (7, 7)]\n",
    "\n",
    "# loop over the kernels sizes\n",
    "for kernelSize in kernelSizes:\n",
    "    # construct a rectangular kernel from the current size and then apply an \"opening\" operation\n",
    "    kernel = cv2.getStructuringElement(cv2.MORPH_RECT, kernelSize)\n",
    "    opening = cv2.morphologyEx(graynoise.copy(), cv2.MORPH_OPEN, kernel)\n",
    "    cv2.imshow(\"Opening: ({}, {})\".format(\n",
    "        kernelSize[0], kernelSize[1]), opening)\n",
    "    k = cv2.waitKey(0)\n",
    "    if k == 27:         # wait for ESC key to exit\n",
    "        cv2.destroyAllWindows()"
   ]
  },
  {
   "cell_type": "code",
   "execution_count": 4,
   "id": "ece3169f",
   "metadata": {},
   "outputs": [],
   "source": [
    "# Closing\n",
    "\n",
    "for kernelSize in kernelSizes:\n",
    "    # construct a rectangular kernel form the current size, but this\n",
    "    # time apply a \"closing\" operation\n",
    "    kernel = cv2.getStructuringElement(cv2.MORPH_RECT, kernelSize)\n",
    "    closing = cv2.morphologyEx(gray.copy(), cv2.MORPH_CLOSE, kernel)\n",
    "    cv2.imshow(\"Closing: ({}, {})\".format(\n",
    "        kernelSize[0], kernelSize[1]), closing)\n",
    "    k = cv2.waitKey(0)\n",
    "    if k == 27:         # wait for ESC key to exit\n",
    "        cv2.destroyAllWindows()"
   ]
  },
  {
   "cell_type": "code",
   "execution_count": 6,
   "id": "530c78dc",
   "metadata": {},
   "outputs": [],
   "source": [
    "# Morphological gradient\n",
    "\n",
    "for kernelSize in kernelSizes:\n",
    "    # construct a rectangular kernel and apply a \"morphological\n",
    "    # gradient\" operation to the image\n",
    "    kernel = cv2.getStructuringElement(cv2.MORPH_RECT, kernelSize)\n",
    "    gradient = cv2.morphologyEx(gray.copy(), cv2.MORPH_GRADIENT, kernel)\n",
    "    cv2.imshow(\"Gradient: ({}, {})\".format(\n",
    "        kernelSize[0], kernelSize[1]), gradient)\n",
    "    k = cv2.waitKey(0)\n",
    "    if k == 27:         # wait for ESC key to exit\n",
    "        cv2.destroyAllWindows()    "
   ]
  },
  {
   "cell_type": "code",
   "execution_count": 5,
   "id": "c3662420",
   "metadata": {},
   "outputs": [],
   "source": [
    "# Top hat and black hat\n",
    "\n",
    "image = cv2.imread(\"car.png\")\n",
    "gray = cv2.cvtColor(image, cv2.COLOR_BGR2GRAY)\n",
    "cv2.imshow(\"Original\", image)\n",
    "\n",
    "rectKernel = cv2.getStructuringElement(cv2.MORPH_RECT, (13, 5))\n",
    "blackhat = cv2.morphologyEx(gray, cv2.MORPH_BLACKHAT, rectKernel)\n",
    "\n",
    "tophat = cv2.morphologyEx(gray, cv2.MORPH_TOPHAT, rectKernel)\n",
    "# show the output images\n",
    "cv2.imshow(\"Original\", image)\n",
    "cv2.imshow(\"Blackhat\", blackhat)\n",
    "cv2.imshow(\"Tophat\", tophat)\n",
    "\n",
    "k = cv2.waitKey(0)\n",
    "if k == 27:         # wait for ESC key to exit\n",
    "    cv2.destroyAllWindows()"
   ]
  },
  {
   "cell_type": "markdown",
   "id": "ef2b1b8c",
   "metadata": {},
   "source": [
    "## Smoothing and Blurring"
   ]
  },
  {
   "cell_type": "code",
   "execution_count": 6,
   "id": "901c3c6f",
   "metadata": {},
   "outputs": [],
   "source": [
    "# Simple average blurring\n",
    "\n",
    "image = cv2.imread(\"car.png\")\n",
    "cv2.imshow(\"Original\", image)\n",
    "\n",
    "k = cv2.waitKey(0)\n",
    "if k == 27:         # wait for ESC key to exit\n",
    "    cv2.destroyAllWindows()\n",
    "\n",
    "kernelSizes = [(3, 3), (9, 9), (15, 15)]\n",
    "# loop over the kernel sizes\n",
    "for (kX, kY) in kernelSizes:\n",
    "    # apply an \"average\" blur to the image using the current kernel size\n",
    "    blurred = cv2.blur(image, (kX, kY))\n",
    "    cv2.imshow(\"Average ({}, {})\".format(kX, kY), blurred)\n",
    "    k = cv2.waitKey(0)\n",
    "    if k == 27:         # wait for ESC key to exit\n",
    "        cv2.destroyAllWindows()"
   ]
  },
  {
   "cell_type": "code",
   "execution_count": 7,
   "id": "0db88816",
   "metadata": {},
   "outputs": [],
   "source": [
    "# Gaussian blurring\n",
    "\n",
    "image = cv2.imread(\"car.png\")\n",
    "cv2.imshow(\"Original\", image)\n",
    "\n",
    "k = cv2.waitKey(0)\n",
    "if k == 27:         # wait for ESC key to exit\n",
    "    cv2.destroyAllWindows()\n",
    "\n",
    "kernelSizes = [(3, 3), (9, 9), (15, 15)]\n",
    "# loop over the kernel sizes\n",
    "for (kX, kY) in kernelSizes:\n",
    "    # apply an \"average\" blur to the image using the current kernel size\n",
    "    blurred = cv2.GaussianBlur(image, (kX, kY), 0)\n",
    "    cv2.imshow(\"Gaussian ({}, {})\".format(kX, kY), blurred)\n",
    "    k = cv2.waitKey(0)\n",
    "    if k == 27:         # wait for ESC key to exit\n",
    "        cv2.destroyAllWindows()"
   ]
  },
  {
   "cell_type": "code",
   "execution_count": 8,
   "id": "0fd444a9",
   "metadata": {},
   "outputs": [],
   "source": [
    "# Median blurring\n",
    "\n",
    "image = cv2.imread(\"car.png\")\n",
    "cv2.imshow(\"Original\", image)\n",
    "\n",
    "k = cv2.waitKey(0)\n",
    "if k == 27:         # wait for ESC key to exit\n",
    "    cv2.destroyAllWindows()\n",
    "\n",
    "# loop over the kernel sizes\n",
    "for k in (3, 9, 15):\n",
    "    # apply an \"average\" blur to the image using the current kernel size\n",
    "    blurred = cv2.medianBlur(image, k)\n",
    "    cv2.imshow(\"Median {}\".format(k), blurred)\n",
    "    k = cv2.waitKey(0)\n",
    "    if k == 27:         # wait for ESC key to exit\n",
    "        cv2.destroyAllWindows()"
   ]
  },
  {
   "cell_type": "code",
   "execution_count": 11,
   "id": "fdca3a74",
   "metadata": {},
   "outputs": [],
   "source": [
    "# Bilateral filtering\n",
    "\n",
    "image = cv2.imread(\"car.png\")\n",
    "cv2.imshow(\"Original\", image)\n",
    "\n",
    "k = cv2.waitKey(0)\n",
    "if k == 27:         # wait for ESC key to exit\n",
    "    cv2.destroyAllWindows()\n",
    "\n",
    "params = [(11, 21, 7), (11, 41, 21), (11, 61, 39)]\n",
    "# loop over the diameter, sigma color, and sigma space\n",
    "for (diameter, sigmaColor, sigmaSpace) in params:\n",
    "    # apply bilateral filtering to the image using the current set of parameters\n",
    "    blurred = cv2.bilateralFilter(image, diameter, sigmaColor, sigmaSpace)\n",
    "    # show the output image and associated parameters\n",
    "    title = \"Blurred d={}, sc={}, ss={}\".format(diameter, sigmaColor, sigmaSpace)\n",
    "    cv2.imshow(title, blurred)\n",
    "    k = cv2.waitKey(0)\n",
    "    if k == 27:         # wait for ESC key to exit\n",
    "        cv2.destroyAllWindows()"
   ]
  },
  {
   "cell_type": "markdown",
   "id": "f78e42a4",
   "metadata": {},
   "source": [
    "## Color spaces"
   ]
  },
  {
   "cell_type": "code",
   "execution_count": 12,
   "id": "55fab422",
   "metadata": {},
   "outputs": [],
   "source": [
    "# RGB\n",
    "\n",
    "image = cv2.imread(\"car.png\")\n",
    "cv2.imshow(\"Original\", image)\n",
    "k = cv2.waitKey(0)\n",
    "if k == 27:         # wait for ESC key to exit\n",
    "    cv2.destroyAllWindows()\n",
    "\n",
    "for (name, chan) in zip((\"B\", \"G\", \"R\"), cv2.split(image)):\n",
    "    cv2.imshow(name, chan)\n",
    "    k = cv2.waitKey(0)\n",
    "    if k == 27:         # wait for ESC key to exit\n",
    "        cv2.destroyAllWindows()\n"
   ]
  },
  {
   "cell_type": "code",
   "execution_count": 13,
   "id": "2e724cf2",
   "metadata": {},
   "outputs": [],
   "source": [
    "# HSV\n",
    "\n",
    "image = cv2.imread(\"car.png\")\n",
    "hsv = cv2.cvtColor(image, cv2.COLOR_BGR2HSV)\n",
    "cv2.imshow(\"HSV\", hsv)\n",
    "k = cv2.waitKey(0)\n",
    "if k == 27:         # wait for ESC key to exit\n",
    "    cv2.destroyAllWindows()\n",
    "\n",
    "for (name, chan) in zip((\"H\", \"S\", \"V\"), cv2.split(hsv)):\n",
    "    cv2.imshow(name, chan)\n",
    "    k = cv2.waitKey(0)\n",
    "    if k == 27:         # wait for ESC key to exit\n",
    "        cv2.destroyAllWindows()"
   ]
  },
  {
   "cell_type": "code",
   "execution_count": 14,
   "id": "0593f77b",
   "metadata": {},
   "outputs": [],
   "source": [
    "# L*a*b*\n",
    "\n",
    "image = cv2.imread(\"car.png\")\n",
    "lab = cv2.cvtColor(image, cv2.COLOR_BGR2LAB)\n",
    "cv2.imshow(\"L*a*b*\", lab)\n",
    "k = cv2.waitKey(0)\n",
    "if k == 27:         # wait for ESC key to exit\n",
    "    cv2.destroyAllWindows()\n",
    "\n",
    "for (name, chan) in zip((\"L*\", \"a*\", \"b*\"), cv2.split(lab)):\n",
    "    cv2.imshow(name, chan)\n",
    "    k = cv2.waitKey(0)\n",
    "    if k == 27:         # wait for ESC key to exit\n",
    "        cv2.destroyAllWindows()"
   ]
  },
  {
   "cell_type": "code",
   "execution_count": 15,
   "id": "8827ec3f",
   "metadata": {},
   "outputs": [],
   "source": [
    "# Grayscale\n",
    "\n",
    "image = cv2.imread(\"car.png\")\n",
    "gray = cv2.cvtColor(image, cv2.COLOR_BGR2GRAY)\n",
    "cv2.imshow(\"Gray\", gray)\n",
    "k = cv2.waitKey(0)\n",
    "if k == 27:         # wait for ESC key to exit\n",
    "    cv2.destroyAllWindows()"
   ]
  },
  {
   "cell_type": "markdown",
   "id": "66268215",
   "metadata": {},
   "source": [
    "## Simple thresholding "
   ]
  },
  {
   "cell_type": "code",
   "execution_count": 16,
   "id": "db60ec1e",
   "metadata": {},
   "outputs": [],
   "source": [
    "# Simple thresholding\n",
    "\n",
    "image = cv2.imread(\"coins.jpg\")\n",
    "gray = cv2.cvtColor(image, cv2.COLOR_BGR2GRAY)\n",
    "blurred = cv2.GaussianBlur(gray, (7,7), 0)\n",
    "cv2.imshow(\"Original\", image)\n",
    "\n",
    "(T, threshInv) = cv2.threshold(blurred, 200, 255, cv2.THRESH_BINARY_INV)\n",
    "cv2.imshow(\"Threshold Binary Inverse\", threshInv)\n",
    "\n",
    "k = cv2.waitKey(0)\n",
    "if k == 27:         # wait for ESC key to exit\n",
    "    cv2.destroyAllWindows()\n",
    "\n",
    "masked = cv2.bitwise_and(image, image, mask=threshInv)\n",
    "cv2.imshow(\"Output\", masked)\n",
    "\n",
    "k = cv2.waitKey(0)\n",
    "if k == 27:         # wait for ESC key to exit\n",
    "    cv2.destroyAllWindows()"
   ]
  },
  {
   "cell_type": "code",
   "execution_count": 17,
   "id": "1d232e87",
   "metadata": {},
   "outputs": [
    {
     "name": "stdout",
     "output_type": "stream",
     "text": [
      "[INFO] otsu's thresholding value: 191.0\n"
     ]
    }
   ],
   "source": [
    "# Otsu's thresholding\n",
    "\n",
    "image = cv2.imread(\"coins.jpg\")\n",
    "gray = cv2.cvtColor(image, cv2.COLOR_BGR2GRAY)\n",
    "blurred = cv2.GaussianBlur(gray, (7,7), 0)\n",
    "\n",
    "(T, threshInv) = cv2.threshold(blurred, 0, 255, cv2.THRESH_BINARY_INV | cv2.THRESH_OTSU)\n",
    "cv2.imshow(\"Threshold\", threshInv)\n",
    "print(\"[INFO] otsu's thresholding value: {}\".format(T))\n",
    "k = cv2.waitKey(0)\n",
    "if k == 27:         # wait for ESC key to exit\n",
    "    cv2.destroyAllWindows()\n",
    "\n",
    "# visualize only the masked regions in the image\n",
    "masked = cv2.bitwise_and(image, image, mask=threshInv)\n",
    "cv2.imshow(\"Output\", masked)\n",
    "\n",
    "k = cv2.waitKey(0)\n",
    "if k == 27:         # wait for ESC key to exit\n",
    "    cv2.destroyAllWindows()"
   ]
  },
  {
   "cell_type": "markdown",
   "id": "84ca8af8",
   "metadata": {},
   "source": [
    "## Adaptive thresholding"
   ]
  },
  {
   "cell_type": "code",
   "execution_count": 18,
   "id": "c22888f8",
   "metadata": {},
   "outputs": [],
   "source": [
    "image = cv2.imread(\"coins.jpg\")\n",
    "gray = cv2.cvtColor(image, cv2.COLOR_BGR2GRAY)\n",
    "blurred = cv2.GaussianBlur(gray, (7,7), 0)\n",
    "cv2.imshow(\"Original\", image)\n",
    "k = cv2.waitKey(0)\n",
    "if k == 27:         # wait for ESC key to exit\n",
    "    cv2.destroyAllWindows()\n",
    "\n",
    "# apply simple thresholding with a hardcoded threshold value\n",
    "(T, threshInv) = cv2.threshold(blurred, 230, 255, cv2.THRESH_BINARY_INV)\n",
    "cv2.imshow(\"Simple Thresholding\", threshInv)\n",
    "k = cv2.waitKey(0)\n",
    "if k == 27:         # wait for ESC key to exit\n",
    "    cv2.destroyAllWindows()\n",
    "\n",
    "# apply Otsu's automatic thresholding\n",
    "(T, threshInv) = cv2.threshold(blurred, 0, 255, cv2.THRESH_BINARY_INV | cv2.THRESH_OTSU)\n",
    "cv2.imshow(\"Otsu Thresholding\", threshInv)\n",
    "k = cv2.waitKey(0)\n",
    "if k == 27:         # wait for ESC key to exit\n",
    "    cv2.destroyAllWindows()\n",
    "    \n",
    "# instead of manually specifying the threshold value, we can use adaptive thresholding to examine neighborhoods of pixels and\n",
    "# adaptively threshold each neighborhood\n",
    "thresh = cv2.adaptiveThreshold(blurred, 255, cv2.ADAPTIVE_THRESH_MEAN_C, cv2.THRESH_BINARY_INV, 21, 10)\n",
    "cv2.imshow(\"Mean Adaptive Thresholding\", thresh)\n",
    "k = cv2.waitKey(0)\n",
    "if k == 27:         # wait for ESC key to exit\n",
    "    cv2.destroyAllWindows()\n",
    "\n",
    "# perform adaptive thresholding again, this time using a Gaussian weighting versus a simple mean to compute our local threshold\n",
    "# value\n",
    "thresh = cv2.adaptiveThreshold(blurred, 255, cv2.ADAPTIVE_THRESH_GAUSSIAN_C, cv2.THRESH_BINARY_INV, 21, 4)\n",
    "cv2.imshow(\"Gaussian Adaptive Thresholding\", thresh)\n",
    "k = cv2.waitKey(0)\n",
    "if k == 27:         # wait for ESC key to exit\n",
    "    cv2.destroyAllWindows()"
   ]
  },
  {
   "cell_type": "markdown",
   "id": "1c12deba",
   "metadata": {},
   "source": [
    "## Image gradients"
   ]
  },
  {
   "cell_type": "code",
   "execution_count": 19,
   "id": "230c85d0",
   "metadata": {},
   "outputs": [],
   "source": [
    "image = cv2.imread(\"coins.jpg\")\n",
    "gray = cv2.cvtColor(image, cv2.COLOR_BGR2GRAY)\n",
    "cv2.imshow(\"Original\", image)\n",
    "\n",
    "# set the kernel size and then compute the gradients along the x and y axis, respectively\n",
    "ksize = 3\n",
    "gX = cv2.Sobel(gray, ddepth=cv2.CV_32F, dx=1, dy=0, ksize=ksize)\n",
    "gY = cv2.Sobel(gray, ddepth=cv2.CV_32F, dx=0, dy=1, ksize=ksize)\n",
    "\n",
    "# the gradient magnitude images are now of the floating point data type, so we need to take\n",
    "# care to convert them back a to unsigned 8-bit integer representation so other OpenCV functions can operate\n",
    "# on them and visualize them\n",
    "gX = cv2.convertScaleAbs(gX)\n",
    "gY = cv2.convertScaleAbs(gY)\n",
    "\n",
    "# combine the gradient representations into a single image\n",
    "combined = cv2.addWeighted(gX, 0.5, gY, 0.5, 0)\n",
    "\n",
    "# show our output images\n",
    "cv2.imshow(\"Sobel X\", gX)\n",
    "cv2.imshow(\"Sobel Y\", gY)\n",
    "cv2.imshow(\"Sobel Combined\", combined)\n",
    "\n",
    "k = cv2.waitKey(0)\n",
    "if k == 27:         # wait for ESC key to exit\n",
    "    cv2.destroyAllWindows()"
   ]
  },
  {
   "cell_type": "markdown",
   "id": "395dbfee",
   "metadata": {},
   "source": [
    "## Edge detection (Canny) "
   ]
  },
  {
   "cell_type": "code",
   "execution_count": null,
   "id": "b740c963",
   "metadata": {},
   "outputs": [],
   "source": [
    "image = cv2.imread(\"coins.jpg\")\n",
    "gray = cv2.cvtColor(image, cv2.COLOR_BGR2GRAY)\n",
    "blurred = cv2.GaussianBlur(gray, (7,7), 0)\n",
    "cv2.imshow(\"Original\", image)\n",
    "\n",
    "   \n",
    "# compute a \"wide\", \"mid-range\", and \"tight\" threshold for the edges\n",
    "# using the Canny edge detector\n",
    "wide = cv2.Canny(blurred, 10, 200)\n",
    "mid = cv2.Canny(blurred, 30, 150)\n",
    "tight = cv2.Canny(blurred, 240, 250)\n",
    "# show the output Canny edge maps\n",
    "cv2.imshow(\"Wide Edge Map\", wide)\n",
    "cv2.imshow(\"Mid Edge Map\", mid)\n",
    "cv2.imshow(\"Tight Edge Map\", tight)\n",
    "\n",
    "k = cv2.waitKey(0)\n",
    "if k == 27:         # wait for ESC key to exit\n",
    "    cv2.destroyAllWindows()"
   ]
  }
 ],
 "metadata": {
  "kernelspec": {
   "display_name": "Python 3 (ipykernel)",
   "language": "python",
   "name": "python3"
  },
  "language_info": {
   "codemirror_mode": {
    "name": "ipython",
    "version": 3
   },
   "file_extension": ".py",
   "mimetype": "text/x-python",
   "name": "python",
   "nbconvert_exporter": "python",
   "pygments_lexer": "ipython3",
   "version": "3.11.1"
  }
 },
 "nbformat": 4,
 "nbformat_minor": 5
}
